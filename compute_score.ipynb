{
 "cells": [
  {
   "cell_type": "code",
   "execution_count": 1,
   "metadata": {},
   "outputs": [],
   "source": [
    "import random\n",
    "import string\n",
    "import re\n",
    "import collections\n",
    "\n",
    "from pythainlp.tokenize import word_tokenize\n",
    "import pandas as pd\n",
    "pd.set_option('display.max_colwidth', 300)"
   ]
  },
  {
   "cell_type": "code",
   "execution_count": 2,
   "metadata": {},
   "outputs": [],
   "source": [
    "def compute_em(result_df):\n",
    "    correct_num = 0\n",
    "    num_example = 0\n",
    "    wrong_qids = []\n",
    "    for qid, ans, pred in zip(result_df['question_id'], result_df['ans'], result_df['pred']):\n",
    "        ans = str(ans).replace(' ', '')\n",
    "        pred = pred.replace(' ', '')\n",
    "        if ans == pred:\n",
    "            correct_num += 1\n",
    "        else:\n",
    "            wrong_qids.append(qid)\n",
    "\n",
    "        num_example += 1\n",
    "    em = correct_num / num_example\n",
    "    return f'EM: {em:.4f}', wrong_qids\n",
    "\n",
    "##################################################\n",
    "\n",
    "def normalize_thai_answer(s):\n",
    "    \"\"\"Lower text and remove whitespace.\"\"\"\n",
    "    def white_space_fix(text):\n",
    "        return str(text).replace(' ', '')\n",
    "    return white_space_fix(s)\n",
    "\n",
    "def get_thai_tokens(s):\n",
    "    if not s: return []\n",
    "    return word_tokenize(normalize_answer(s))\n",
    "\n",
    "def compute_thai_f1(a_gold, a_pred):\n",
    "    gold_toks = get_thai_tokens(a_gold)\n",
    "    pred_toks = get_thai_tokens(a_pred)\n",
    "    common = collections.Counter(gold_toks) & collections.Counter(pred_toks)\n",
    "    num_same = sum(common.values())\n",
    "    if len(gold_toks) == 0 or len(pred_toks) == 0:\n",
    "    # If either is no-answer, then F1 is 1 if they agree, 0 otherwise\n",
    "        return int(gold_toks == pred_toks)\n",
    "    if num_same == 0:\n",
    "        return 0\n",
    "    precision = 1.0 * num_same / len(pred_toks)\n",
    "    recall = 1.0 * num_same / len(gold_toks)\n",
    "    f1 = (2 * precision * recall) / (precision + recall)\n",
    "    return f1\n",
    "\n",
    "##################################################\n",
    "\n",
    "def normalize_answer(s):\n",
    "    \"\"\"Lower text and remove punctuation, articles and extra whitespace.\"\"\"\n",
    "    def remove_articles(text):\n",
    "        regex = re.compile(r'\\b(a|an|the)\\b', re.UNICODE)\n",
    "        return re.sub(regex, ' ', text)\n",
    "    def white_space_fix(text):\n",
    "        return ' '.join(text.split())\n",
    "    def remove_punc(text):\n",
    "        exclude = set(string.punctuation)\n",
    "        return ''.join(ch for ch in text if ch not in exclude)\n",
    "    def lower(text):\n",
    "        return text.lower()\n",
    "    return white_space_fix(remove_articles(remove_punc(lower(s))))\n",
    "\n",
    "def get_tokens(s):\n",
    "    if not s: return []\n",
    "    return normalize_answer(s).split()\n",
    "\n",
    "def compute_f1(a_gold, a_pred):\n",
    "    gold_toks = get_tokens(a_gold)\n",
    "    pred_toks = get_tokens(a_pred)\n",
    "    common = collections.Counter(gold_toks) & collections.Counter(pred_toks)\n",
    "    num_same = sum(common.values())\n",
    "    if len(gold_toks) == 0 or len(pred_toks) == 0:\n",
    "        # If either is no-answer, then F1 is 1 if they agree, 0 otherwise\n",
    "        return int(gold_toks == pred_toks)\n",
    "    if num_same == 0:\n",
    "        return 0\n",
    "    precision = 1.0 * num_same / len(pred_toks)\n",
    "    recall = 1.0 * num_same / len(gold_toks)\n",
    "    f1 = (2 * precision * recall) / (precision + recall)\n",
    "    return f1\n",
    "\n",
    "##################################################\n",
    "\n",
    "def compute_score(result_df, lang):\n",
    "    f1 = 0\n",
    "    correct_num = 0\n",
    "    num_example = 0\n",
    "    wrong_qids = []\n",
    "    for qid, ans, pred in zip(result_df['question_id'], result_df['ans'], result_df['pred']):\n",
    "        ans = str(ans).replace(' ', '')\n",
    "        pred = pred.replace(' ', '')\n",
    "        if ans == pred:\n",
    "            correct_num += 1\n",
    "        else:\n",
    "            wrong_qids.append(qid)\n",
    "\n",
    "        num_example += 1\n",
    "\n",
    "    em = correct_num / num_example\n",
    "    if lang == 'thai':\n",
    "        for qid, ans, pred in zip(result_df['question_id'], result_df['ans'], result_df['pred']):\n",
    "            f1 += compute_thai_f1(str(ans), str(pred))\n",
    "        avg_f1 = f1 / num_example\n",
    "    elif lang == 'eng':\n",
    "        for qid, ans, pred in zip(result_df['question_id'], result_df['ans'], result_df['pred']):\n",
    "            f1 += compute_f1(ans, pred)\n",
    "        avg_f1 = f1 / num_example\n",
    "    return f'EM: {em:.4f}', f'F1: {avg_f1:.4f}'"
   ]
  },
  {
   "cell_type": "markdown",
   "metadata": {},
   "source": [
    "# Test 50"
   ]
  },
  {
   "cell_type": "code",
   "execution_count": 3,
   "metadata": {},
   "outputs": [],
   "source": [
    "result_test_50_thai_only = pd.read_pickle('/Users/jeew/works/qas/result/result_test_50_thai_only.p')\n",
    "result_test_50_mixed_7600 = pd.read_pickle('/Users/jeew/works/qas/result/result_test_50_mixed_7600.p')\n",
    "result_test_50_mixed_23600 = pd.read_pickle('/Users/jeew/works/qas/result/result_test_50_mixed_23600.p')\n",
    "result_test_50_mixed_all = pd.read_pickle('/Users/jeew/works/qas/result/result_test_50_mixed_all.p')"
   ]
  },
  {
   "cell_type": "code",
   "execution_count": 4,
   "metadata": {},
   "outputs": [
    {
     "data": {
      "text/plain": [
       "('EM: 0.3400', 'F1: 0.4397')"
      ]
     },
     "execution_count": 4,
     "metadata": {},
     "output_type": "execute_result"
    }
   ],
   "source": [
    "compute_score(result_test_50_thai_only, 'thai')"
   ]
  },
  {
   "cell_type": "code",
   "execution_count": 5,
   "metadata": {},
   "outputs": [
    {
     "data": {
      "text/plain": [
       "('EM: 0.3200', 'F1: 0.3982')"
      ]
     },
     "execution_count": 5,
     "metadata": {},
     "output_type": "execute_result"
    }
   ],
   "source": [
    "compute_score(result_test_50_mixed_7600, 'thai')"
   ]
  },
  {
   "cell_type": "code",
   "execution_count": 6,
   "metadata": {},
   "outputs": [
    {
     "data": {
      "text/plain": [
       "('EM: 0.3800', 'F1: 0.4657')"
      ]
     },
     "execution_count": 6,
     "metadata": {},
     "output_type": "execute_result"
    }
   ],
   "source": [
    "compute_score(result_test_50_mixed_23600, 'thai')"
   ]
  },
  {
   "cell_type": "code",
   "execution_count": 7,
   "metadata": {
    "scrolled": true
   },
   "outputs": [
    {
     "data": {
      "text/plain": [
       "('EM: 0.5600', 'F1: 0.6180')"
      ]
     },
     "execution_count": 7,
     "metadata": {},
     "output_type": "execute_result"
    }
   ],
   "source": [
    "compute_score(result_test_50_mixed_all, 'thai')"
   ]
  },
  {
   "cell_type": "markdown",
   "metadata": {},
   "source": [
    "# Test 400"
   ]
  },
  {
   "cell_type": "code",
   "execution_count": 8,
   "metadata": {},
   "outputs": [],
   "source": [
    "result_test_400_thai_only = pd.read_pickle('/Users/jeew/works/qas/result/result_test_400_thai_only.p')\n",
    "result_test_400_mixed_7600 = pd.read_pickle('/Users/jeew/works/qas/result/result_test_400_mixed_7600.p')\n",
    "result_test_400_mixed_23600 = pd.read_pickle('/Users/jeew/works/qas/result/result_test_400_mixed_23600.p')\n",
    "result_test_400_mixed_all = pd.read_pickle('/Users/jeew/works/qas/result/result_test_400_mixed_all.p')"
   ]
  },
  {
   "cell_type": "code",
   "execution_count": 9,
   "metadata": {},
   "outputs": [
    {
     "data": {
      "text/plain": [
       "('EM: 0.5725', 'F1: 0.6002')"
      ]
     },
     "execution_count": 9,
     "metadata": {},
     "output_type": "execute_result"
    }
   ],
   "source": [
    "compute_score(result_test_400_thai_only, 'thai')"
   ]
  },
  {
   "cell_type": "code",
   "execution_count": 10,
   "metadata": {},
   "outputs": [
    {
     "data": {
      "text/plain": [
       "('EM: 0.6075', 'F1: 0.6385')"
      ]
     },
     "execution_count": 10,
     "metadata": {},
     "output_type": "execute_result"
    }
   ],
   "source": [
    "compute_score(result_test_400_mixed_7600, 'thai')"
   ]
  },
  {
   "cell_type": "code",
   "execution_count": 11,
   "metadata": {},
   "outputs": [
    {
     "data": {
      "text/plain": [
       "('EM: 0.5950', 'F1: 0.6411')"
      ]
     },
     "execution_count": 11,
     "metadata": {},
     "output_type": "execute_result"
    }
   ],
   "source": [
    "compute_score(result_test_400_mixed_23600, 'thai')"
   ]
  },
  {
   "cell_type": "code",
   "execution_count": 12,
   "metadata": {},
   "outputs": [
    {
     "data": {
      "text/plain": [
       "('EM: 0.6125', 'F1: 0.6407')"
      ]
     },
     "execution_count": 12,
     "metadata": {},
     "output_type": "execute_result"
    }
   ],
   "source": [
    "compute_score(result_test_400_mixed_all, 'thai')"
   ]
  },
  {
   "cell_type": "markdown",
   "metadata": {},
   "source": [
    "# Test 1756 (Google translate from SQuAD)"
   ]
  },
  {
   "cell_type": "code",
   "execution_count": 13,
   "metadata": {},
   "outputs": [],
   "source": [
    "result_test_1756_thai_only = pd.read_pickle('/Users/jeew/works/qas/result/result_test_1756_thai_only.p')\n",
    "result_test_1756_mixed_7600 = pd.read_pickle('/Users/jeew/works/qas/result/result_test_1756_mixed_7600.p')\n",
    "result_test_1756_mixed_23600 = pd.read_pickle('/Users/jeew/works/qas/result/result_test_1756_mixed_23600.p')\n",
    "result_test_1756_mixed_all = pd.read_pickle('/Users/jeew/works/qas/result/result_test_1756_mixed_all.p')"
   ]
  },
  {
   "cell_type": "code",
   "execution_count": 14,
   "metadata": {},
   "outputs": [
    {
     "data": {
      "text/plain": [
       "('EM: 0.1640', 'F1: 0.2281')"
      ]
     },
     "execution_count": 14,
     "metadata": {},
     "output_type": "execute_result"
    }
   ],
   "source": [
    "compute_score(result_test_1756_thai_only, 'thai')"
   ]
  },
  {
   "cell_type": "code",
   "execution_count": 15,
   "metadata": {},
   "outputs": [
    {
     "data": {
      "text/plain": [
       "('EM: 0.2318', 'F1: 0.3046')"
      ]
     },
     "execution_count": 15,
     "metadata": {},
     "output_type": "execute_result"
    }
   ],
   "source": [
    "compute_score(result_test_1756_mixed_7600, 'thai')"
   ]
  },
  {
   "cell_type": "code",
   "execution_count": 16,
   "metadata": {},
   "outputs": [
    {
     "data": {
      "text/plain": [
       "('EM: 0.2654', 'F1: 0.3416')"
      ]
     },
     "execution_count": 16,
     "metadata": {},
     "output_type": "execute_result"
    }
   ],
   "source": [
    "compute_score(result_test_1756_mixed_23600, 'thai')"
   ]
  },
  {
   "cell_type": "code",
   "execution_count": 17,
   "metadata": {},
   "outputs": [
    {
     "data": {
      "text/plain": [
       "('EM: 0.3235', 'F1: 0.4137')"
      ]
     },
     "execution_count": 17,
     "metadata": {},
     "output_type": "execute_result"
    }
   ],
   "source": [
    "compute_score(result_test_1756_mixed_all, 'thai')"
   ]
  },
  {
   "cell_type": "markdown",
   "metadata": {},
   "source": [
    "# Test 2000 (English, Sample from SQuAD)"
   ]
  },
  {
   "cell_type": "code",
   "execution_count": 18,
   "metadata": {},
   "outputs": [],
   "source": [
    "result_test_squad_thai_only = pd.read_pickle('/Users/jeew/works/qas/result/result_test_squad_thai_only.p')\n",
    "result_test_squad_mixed_7600 = pd.read_pickle('/Users/jeew/works/qas/result/result_test_squad_mixed_7600.p')\n",
    "result_test_squad_mixed_23600 = pd.read_pickle('/Users/jeew/works/qas/result/result_test_squad_mixed_23600.p')\n",
    "result_test_squad_mixed_all = pd.read_pickle('/Users/jeew/works/qas/result/result_test_squad_mixed_all.p')"
   ]
  },
  {
   "cell_type": "code",
   "execution_count": 19,
   "metadata": {},
   "outputs": [
    {
     "data": {
      "text/plain": [
       "('EM: 0.1100', 'F1: 0.2011')"
      ]
     },
     "execution_count": 19,
     "metadata": {},
     "output_type": "execute_result"
    }
   ],
   "source": [
    "compute_score(result_test_squad_thai_only, 'eng')"
   ]
  },
  {
   "cell_type": "code",
   "execution_count": 20,
   "metadata": {},
   "outputs": [
    {
     "data": {
      "text/plain": [
       "('EM: 0.4085', 'F1: 0.7101')"
      ]
     },
     "execution_count": 20,
     "metadata": {},
     "output_type": "execute_result"
    }
   ],
   "source": [
    "compute_score(result_test_squad_mixed_7600, 'eng')"
   ]
  },
  {
   "cell_type": "code",
   "execution_count": 21,
   "metadata": {},
   "outputs": [
    {
     "data": {
      "text/plain": [
       "('EM: 0.4795', 'F1: 0.7870')"
      ]
     },
     "execution_count": 21,
     "metadata": {},
     "output_type": "execute_result"
    }
   ],
   "source": [
    "compute_score(result_test_squad_mixed_23600, 'eng')"
   ]
  },
  {
   "cell_type": "code",
   "execution_count": 22,
   "metadata": {},
   "outputs": [
    {
     "data": {
      "text/plain": [
       "('EM: 0.5255', 'F1: 0.8321')"
      ]
     },
     "execution_count": 22,
     "metadata": {},
     "output_type": "execute_result"
    }
   ],
   "source": [
    "compute_score(result_test_squad_mixed_all, 'eng')"
   ]
  },
  {
   "cell_type": "code",
   "execution_count": null,
   "metadata": {},
   "outputs": [],
   "source": []
  }
 ],
 "metadata": {
  "kernelspec": {
   "display_name": "Python 3",
   "language": "python",
   "name": "python3"
  },
  "language_info": {
   "codemirror_mode": {
    "name": "ipython",
    "version": 3
   },
   "file_extension": ".py",
   "mimetype": "text/x-python",
   "name": "python",
   "nbconvert_exporter": "python",
   "pygments_lexer": "ipython3",
   "version": "3.7.3"
  }
 },
 "nbformat": 4,
 "nbformat_minor": 2
}
